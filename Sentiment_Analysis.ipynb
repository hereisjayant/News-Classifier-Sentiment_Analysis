{
  "nbformat": 4,
  "nbformat_minor": 0,
  "metadata": {
    "colab": {
      "name": "Sentiment Analysis.ipynb",
      "provenance": []
    },
    "kernelspec": {
      "name": "python3",
      "display_name": "Python 3"
    }
  },
  "cells": [
    {
      "cell_type": "code",
      "metadata": {
        "colab": {
          "base_uri": "https://localhost:8080/"
        },
        "id": "tNEz3xv-5D_a",
        "outputId": "2ecde4d7-817e-44f7-ad4b-cc811a9ad926"
      },
      "source": [
        "!pip install torchtext==0.8.0 --upgrade"
      ],
      "execution_count": 1,
      "outputs": [
        {
          "output_type": "stream",
          "text": [
            "Collecting torchtext==0.8.0\n",
            "\u001b[?25l  Downloading https://files.pythonhosted.org/packages/26/8a/e09b9b82d4dd676f17aa681003a7533765346744391966dec0d5dba03ee4/torchtext-0.8.0-cp37-cp37m-manylinux1_x86_64.whl (6.9MB)\n",
            "\u001b[K     |████████████████████████████████| 7.0MB 4.7MB/s \n",
            "\u001b[?25hRequirement already satisfied, skipping upgrade: torch in /usr/local/lib/python3.7/dist-packages (from torchtext==0.8.0) (1.7.1+cu101)\n",
            "Requirement already satisfied, skipping upgrade: tqdm in /usr/local/lib/python3.7/dist-packages (from torchtext==0.8.0) (4.41.1)\n",
            "Requirement already satisfied, skipping upgrade: requests in /usr/local/lib/python3.7/dist-packages (from torchtext==0.8.0) (2.23.0)\n",
            "Requirement already satisfied, skipping upgrade: numpy in /usr/local/lib/python3.7/dist-packages (from torchtext==0.8.0) (1.19.5)\n",
            "Requirement already satisfied, skipping upgrade: typing-extensions in /usr/local/lib/python3.7/dist-packages (from torch->torchtext==0.8.0) (3.7.4.3)\n",
            "Requirement already satisfied, skipping upgrade: chardet<4,>=3.0.2 in /usr/local/lib/python3.7/dist-packages (from requests->torchtext==0.8.0) (3.0.4)\n",
            "Requirement already satisfied, skipping upgrade: idna<3,>=2.5 in /usr/local/lib/python3.7/dist-packages (from requests->torchtext==0.8.0) (2.10)\n",
            "Requirement already satisfied, skipping upgrade: urllib3!=1.25.0,!=1.25.1,<1.26,>=1.21.1 in /usr/local/lib/python3.7/dist-packages (from requests->torchtext==0.8.0) (1.24.3)\n",
            "Requirement already satisfied, skipping upgrade: certifi>=2017.4.17 in /usr/local/lib/python3.7/dist-packages (from requests->torchtext==0.8.0) (2020.12.5)\n",
            "Installing collected packages: torchtext\n",
            "  Found existing installation: torchtext 0.3.1\n",
            "    Uninstalling torchtext-0.3.1:\n",
            "      Successfully uninstalled torchtext-0.3.1\n",
            "Successfully installed torchtext-0.8.0\n"
          ],
          "name": "stdout"
        }
      ]
    },
    {
      "cell_type": "code",
      "metadata": {
        "id": "EiL0o5m59OAs"
      },
      "source": [
        "import torch, torchtext\r\n",
        "from torch import nn, optim, functional as F\r\n",
        "from tqdm.auto import tqdm"
      ],
      "execution_count": 4,
      "outputs": []
    },
    {
      "cell_type": "code",
      "metadata": {
        "colab": {
          "base_uri": "https://localhost:8080/"
        },
        "id": "qEhYeu0M9VK-",
        "outputId": "fa1f0612-77ea-442d-85bb-2f218c0b6176"
      },
      "source": [
        "train_ds, test_ds = torchtext.datasets.text_classification.DATASETS['AG_NEWS'](root='data', ngrams = 1, vocab = None)"
      ],
      "execution_count": 5,
      "outputs": [
        {
          "output_type": "stream",
          "text": [
            "ag_news_csv.tar.gz: 11.8MB [00:00, 59.5MB/s]\n",
            "120000lines [00:05, 23869.48lines/s]\n",
            "120000lines [00:09, 12233.65lines/s]\n",
            "7600lines [00:00, 11393.19lines/s]\n"
          ],
          "name": "stderr"
        }
      ]
    },
    {
      "cell_type": "markdown",
      "metadata": {
        "id": "wxYIjV0J-BCi"
      },
      "source": [
        "## Vocab:\r\n"
      ]
    },
    {
      "cell_type": "code",
      "metadata": {
        "colab": {
          "base_uri": "https://localhost:8080/"
        },
        "id": "plqu7jJc_gjs",
        "outputId": "38d7ed42-6ad0-4526-b998-a1a773f1e479"
      },
      "source": [
        "vb = train_ds.get_vocab()\r\n",
        "len(vb)"
      ],
      "execution_count": 8,
      "outputs": [
        {
          "output_type": "execute_result",
          "data": {
            "text/plain": [
              "95812"
            ]
          },
          "metadata": {
            "tags": []
          },
          "execution_count": 8
        }
      ]
    },
    {
      "cell_type": "code",
      "metadata": {
        "colab": {
          "base_uri": "https://localhost:8080/"
        },
        "id": "bjFyt48w_pQC",
        "outputId": "53d17e56-0ab6-4d17-d9e9-4b7f4d2bfc2f"
      },
      "source": [
        "vb.itos[:10]"
      ],
      "execution_count": 9,
      "outputs": [
        {
          "output_type": "execute_result",
          "data": {
            "text/plain": [
              "['<unk>', '<pad>', '.', 'the', ',', 'to', 'a', 'of', 'in', 'and']"
            ]
          },
          "metadata": {
            "tags": []
          },
          "execution_count": 9
        }
      ]
    },
    {
      "cell_type": "code",
      "metadata": {
        "colab": {
          "base_uri": "https://localhost:8080/"
        },
        "id": "k1s4kado_0WK",
        "outputId": "9a15e944-f724-4268-f874-f50db8034cd9"
      },
      "source": [
        "vb.stoi['security']"
      ],
      "execution_count": 10,
      "outputs": [
        {
          "output_type": "execute_result",
          "data": {
            "text/plain": [
              "100"
            ]
          },
          "metadata": {
            "tags": []
          },
          "execution_count": 10
        }
      ]
    },
    {
      "cell_type": "markdown",
      "metadata": {
        "id": "7wlhf8dOAOJz"
      },
      "source": [
        "## Examining dataset:\r\n"
      ]
    },
    {
      "cell_type": "code",
      "metadata": {
        "colab": {
          "base_uri": "https://localhost:8080/"
        },
        "id": "ev1PX3pJAiAS",
        "outputId": "17496c95-f826-4e3c-f5b4-b88f0e589fea"
      },
      "source": [
        "torchtext.datasets.text_classification.LABELS['AG_NEWS']"
      ],
      "execution_count": 13,
      "outputs": [
        {
          "output_type": "execute_result",
          "data": {
            "text/plain": [
              "{0: 'World', 1: 'Sports', 2: 'Business', 3: 'Sci/Tech'}"
            ]
          },
          "metadata": {
            "tags": []
          },
          "execution_count": 13
        }
      ]
    },
    {
      "cell_type": "code",
      "metadata": {
        "colab": {
          "base_uri": "https://localhost:8080/"
        },
        "id": "gaYJQaU0_61B",
        "outputId": "f0f07ad8-8e5f-4007-9538-9679a090fe22"
      },
      "source": [
        "test_ds.get_labels()"
      ],
      "execution_count": 12,
      "outputs": [
        {
          "output_type": "execute_result",
          "data": {
            "text/plain": [
              "{0, 1, 2, 3}"
            ]
          },
          "metadata": {
            "tags": []
          },
          "execution_count": 12
        }
      ]
    },
    {
      "cell_type": "code",
      "metadata": {
        "colab": {
          "base_uri": "https://localhost:8080/"
        },
        "id": "ZR0MF8qpAz5T",
        "outputId": "87197174-a1eb-430d-c793-6ed89667fc6c"
      },
      "source": [
        "test_ds[100]"
      ],
      "execution_count": 14,
      "outputs": [
        {
          "output_type": "execute_result",
          "data": {
            "text/plain": [
              "(1,\n",
              " tensor([ 314,  611,   12,  197,    4, 8234,   31,  705,  477,  198,  640,   33,\n",
              "          250,    5,   33,  183,   13,   10,   48,  814, 3328,  314, 2730,  708,\n",
              "           11,   58,    4,  224,    8,    3,  730, 1152,   31, 1593,    7, 3979,\n",
              "           13,   10,  860,  822, 1359,    3,   48,  814, 7059,   30,    3,   89,\n",
              "         1667, 5573,    2]))"
            ]
          },
          "metadata": {
            "tags": []
          },
          "execution_count": 14
        }
      ]
    },
    {
      "cell_type": "code",
      "metadata": {
        "colab": {
          "base_uri": "https://localhost:8080/",
          "height": 52
        },
        "id": "VDBUE3OXA5jD",
        "outputId": "1b26818d-9bc3-4f2c-de0f-bf230e125281"
      },
      "source": [
        "' '.join([vb.itos[i] for i in test_ds[100][1]]) "
      ],
      "execution_count": 15,
      "outputs": [
        {
          "output_type": "execute_result",
          "data": {
            "application/vnd.google.colaboratory.intrinsic+json": {
              "type": "string"
            },
            "text/plain": [
              "'olympic history for india , uae an indian army major shot his way to his country #39 s first ever individual olympic silver medal on tuesday , while in the same event an member of dubai #39 s ruling family became the first ever medallist from the united arab emirates .'"
            ]
          },
          "metadata": {
            "tags": []
          },
          "execution_count": 15
        }
      ]
    },
    {
      "cell_type": "markdown",
      "metadata": {
        "id": "JsVgEbvBBRbY"
      },
      "source": [
        "## Embeddings\r\n",
        "\r\n",
        "testing out by creating an embedding for 10 words"
      ]
    },
    {
      "cell_type": "code",
      "metadata": {
        "id": "pbwd2TlZBVbZ"
      },
      "source": [
        "emb = nn.Embedding(10, 3)"
      ],
      "execution_count": 16,
      "outputs": []
    },
    {
      "cell_type": "code",
      "metadata": {
        "colab": {
          "base_uri": "https://localhost:8080/"
        },
        "id": "8Hb-ERWSBcGi",
        "outputId": "1592b9a8-721c-4dae-ec7b-a5933a0a1f87"
      },
      "source": [
        "emb(torch.LongTensor([1, 2, 3, 3]))"
      ],
      "execution_count": 17,
      "outputs": [
        {
          "output_type": "execute_result",
          "data": {
            "text/plain": [
              "tensor([[ 0.5790,  0.6583,  0.4305],\n",
              "        [-0.6313,  1.4892, -1.1207],\n",
              "        [ 0.1219, -1.4118,  0.7932],\n",
              "        [ 0.1219, -1.4118,  0.7932]], grad_fn=<EmbeddingBackward>)"
            ]
          },
          "metadata": {
            "tags": []
          },
          "execution_count": 17
        }
      ]
    },
    {
      "cell_type": "markdown",
      "metadata": {
        "id": "FYmagYUpCSjy"
      },
      "source": [
        "## Model\r\n"
      ]
    },
    {
      "cell_type": "code",
      "metadata": {
        "id": "8Zthu3FyCVdT"
      },
      "source": [
        ""
      ],
      "execution_count": null,
      "outputs": []
    }
  ]
}